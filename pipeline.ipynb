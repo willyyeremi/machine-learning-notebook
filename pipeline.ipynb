{
 "cells": [
  {
   "attachments": {},
   "cell_type": "markdown",
   "metadata": {},
   "source": [
    "This is the jupyter notebook for creating interactive machine learning pipeline"
   ]
  },
  {
   "attachments": {},
   "cell_type": "markdown",
   "metadata": {},
   "source": [
    "1. this part for loading necceseary self-made function"
   ]
  },
  {
   "cell_type": "code",
   "execution_count": null,
   "metadata": {},
   "outputs": [],
   "source": [
    "import sys\n",
    "import sklearn.model_selection\n",
    "\n",
    "sys.path.insert(0,\"C:/Users/willy/Documents/GitHub/test-machine-learning/data_preparation\")\n",
    "sys.path.insert(0,\"C:/Users/willy/Documents/GitHub/test-machine-learning/preprocessing\")\n",
    "sys.path.insert(0,\"C:/Users/willy/Documents/GitHub/test-machine-learning/model\")\n",
    "import load_data\n",
    "import data_description\n",
    "import feature_target\n",
    "import missing_value\n",
    "import multi_decision_tree"
   ]
  },
  {
   "attachments": {},
   "cell_type": "markdown",
   "metadata": {},
   "source": [
    "2. this part contains mutiple self-made function for loading data and creating information of the data"
   ]
  },
  {
   "cell_type": "code",
   "execution_count": 1,
   "metadata": {},
   "outputs": [],
   "source": [
    "# write the path of the data bellow\n",
    "path=\n",
    "\n",
    "# choose option of your data\n",
    "# 1: only single file data\n",
    "# 2: multiple data from folder\n",
    "type_data=1"
   ]
  },
  {
   "cell_type": "code",
   "execution_count": null,
   "metadata": {},
   "outputs": [],
   "source": [
    "# loading data\n",
    "data=load_data.load_data()\n",
    "\n",
    "# data information\n",
    "data_description.data_description_1(data)\n",
    "data_description.data_description_2(data)\n"
   ]
  },
  {
   "attachments": {},
   "cell_type": "markdown",
   "metadata": {},
   "source": [
    "3. this part contains function for choosing feature and target. write inste the paranthesis([]) with double aposthrope and separated with comma. for example: \"Rooms\",\"Bedroom\",\"Car\""
   ]
  },
  {
   "cell_type": "code",
   "execution_count": null,
   "metadata": {},
   "outputs": [],
   "source": [
    "# for data with int64 or float64 type\n",
    "numerical_feature=[]\n",
    "\n",
    "# for categorical data with ordinality\n",
    "ordinal_feature=[]\n",
    "\n",
    "# for categorical data without ordinality and <=10 categories\n",
    "oh_feature=[]\n",
    "\n",
    "# for categorical data without ordinality and >10 categories\n",
    "target_feature=[]\n",
    "\n",
    "# for data that will get predicted\n",
    "target=[]"
   ]
  },
  {
   "cell_type": "code",
   "execution_count": null,
   "metadata": {},
   "outputs": [],
   "source": [
    "# checking feature\n",
    "nf=feature_target.numerical_feature(data,numerical_feature)\n",
    "cf=feature_target.categorical_check(data,ordinal_feature,oh_feature,target_feature)\n",
    "feature=nf.append(cf)\n",
    "\n",
    "# processing feature\n",
    "feature=data[feature]\n",
    "target=data[target]"
   ]
  },
  {
   "attachments": {},
   "cell_type": "markdown",
   "metadata": {},
   "source": [
    "4. this part for dividing dataset into train set and test set"
   ]
  },
  {
   "cell_type": "code",
   "execution_count": null,
   "metadata": {},
   "outputs": [],
   "source": [
    "# how you will divide the data. put the number of the option inside the paranthesis\n",
    "# 1: random\n",
    "# 2: determined by you\n",
    "# 3: cross validation\n",
    "split_type=[1]\n",
    "\n",
    "# fill this variable if you choose option 2 or 3. write inside the paranthesis.\n",
    "# 1. if you choose option 2, fill it with train set and test set. format (train set ratio,test set ratio)\n",
    "# 2. if you choose option 3, fill it with how many fold you want the validation get done. format (number of fold)\n",
    "ratio=[]"
   ]
  },
  {
   "cell_type": "code",
   "execution_count": null,
   "metadata": {},
   "outputs": [],
   "source": []
  }
 ],
 "metadata": {
  "kernelspec": {
   "display_name": "Python 3",
   "language": "python",
   "name": "python3"
  },
  "language_info": {
   "codemirror_mode": {
    "name": "ipython",
    "version": 3
   },
   "file_extension": ".py",
   "mimetype": "text/x-python",
   "name": "python",
   "nbconvert_exporter": "python",
   "pygments_lexer": "ipython3",
   "version": "3.11.1"
  },
  "orig_nbformat": 4,
  "vscode": {
   "interpreter": {
    "hash": "2dea0313b6511b0eb0385822b5537bae460f7b8f955c9e5785ef759a759026eb"
   }
  }
 },
 "nbformat": 4,
 "nbformat_minor": 2
}
